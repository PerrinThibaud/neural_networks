{
 "cells": [
  {
   "cell_type": "markdown",
   "id": "ba884831",
   "metadata": {},
   "source": [
    "# Perceptron (p)"
   ]
  },
  {
   "cell_type": "markdown",
   "id": "3aa9c200",
   "metadata": {},
   "source": [
    "### Imports"
   ]
  },
  {
   "cell_type": "code",
   "execution_count": 1,
   "id": "31e97253",
   "metadata": {},
   "outputs": [],
   "source": [
    "import numpy as np"
   ]
  },
  {
   "cell_type": "markdown",
   "id": "7e5bb71f",
   "metadata": {},
   "source": [
    "$$z=w_1x_1+w_2x_2+b$$  \n",
    "  \n",
    "$$\\text{Vectorization : } Z=X \\cdot W+b$$  \n",
    "\\begin{equation*}\n",
    "X =\n",
    "\\begin{bmatrix}x_{1}^{(1)} & \\dots & x_{n}^{(1)}\\\\\n",
    "\\vdots & \\ddots & \\vdots\\\\\n",
    "x_{1}^{(m)} & \\dots & x_{n}^{(m)}\n",
    "\\end{bmatrix}\n",
    "\\in \\mathbb{R}^{m \\times n}\n",
    "\\space \\space \\space \\space\n",
    "W=\n",
    "\\begin{bmatrix}w_{1}\\\\\n",
    "\\vdots\\\\\n",
    "w_{n}\n",
    "\\end{bmatrix}\n",
    "\\in \\mathbb{R}^{n \\times 1}\n",
    "\\space \\space \\space \\space\n",
    "b=\n",
    "\\begin{bmatrix}b\\\\\n",
    "\\vdots\\\\\n",
    "b\n",
    "\\end{bmatrix}\n",
    "\\in \\mathbb{R}^{m \\times 1}\n",
    "=b \\in \\mathbb{R}\n",
    "\\end{equation*}"
   ]
  },
  {
   "cell_type": "markdown",
   "id": "85e9ccd9",
   "metadata": {},
   "source": [
    "https://www.youtube.com/watch?v=P6q_w-4H6pY"
   ]
  },
  {
   "cell_type": "markdown",
   "id": "5ea36dd1",
   "metadata": {},
   "source": [
    "<script src=\"https://cdn.jsdelivr.net/npm/mermaid/dist/mermaid.min.js\"></script>\n",
    "<script>mermaid.initialize({startOnLoad:true});</script>\n",
    "<script src=\"https://cdn.jsdelivr.net/npm/mermaid/dist/mermaid.min.js\">"
   ]
  },
  {
   "cell_type": "markdown",
   "id": "966632d9",
   "metadata": {},
   "source": [
    "```html\n",
    "<div class=\"mermaid\">\n",
    "graph TD;\n",
    "A-->B;\n",
    "A-->C;\n",
    "B-->D;\n",
    "C-->D;\n",
    "</div>\n",
    "```"
   ]
  },
  {
   "cell_type": "code",
   "execution_count": 1,
   "id": "0396980a",
   "metadata": {},
   "outputs": [
    {
     "data": {
      "text/html": [
       "<script>$(function(){\n",
       "    window.mermaid && mermaid.init();\n",
       "    $(IPython.events).on(\"rendered.MarkdownCell\", function(evt, cell){\n",
       "        mermaid.init();\n",
       "    });\n",
       "});</script>\n"
      ],
      "text/plain": [
       "<IPython.core.display.HTML object>"
      ]
     },
     "metadata": {},
     "output_type": "display_data"
    }
   ],
   "source": [
    "%%html\n",
    "<script>$(function(){\n",
    "    window.mermaid && mermaid.init();\n",
    "    $(IPython.events).on(\"rendered.MarkdownCell\", function(evt, cell){\n",
    "        mermaid.init();\n",
    "    });\n",
    "});</script>"
   ]
  },
  {
   "cell_type": "code",
   "execution_count": null,
   "id": "fa6b3e3f",
   "metadata": {},
   "outputs": [],
   "source": []
  }
 ],
 "metadata": {
  "kernelspec": {
   "display_name": "Python 3 (ipykernel)",
   "language": "python",
   "name": "python3"
  },
  "language_info": {
   "codemirror_mode": {
    "name": "ipython",
    "version": 3
   },
   "file_extension": ".py",
   "mimetype": "text/x-python",
   "name": "python",
   "nbconvert_exporter": "python",
   "pygments_lexer": "ipython3",
   "version": "3.9.5"
  }
 },
 "nbformat": 4,
 "nbformat_minor": 5
}
