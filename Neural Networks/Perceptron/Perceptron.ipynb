{
 "cells": [
  {
   "cell_type": "markdown",
   "id": "ba884831",
   "metadata": {},
   "source": [
    "# Perceptron (p)"
   ]
  },
  {
   "cell_type": "markdown",
   "id": "3aa9c200",
   "metadata": {},
   "source": [
    "## Imports"
   ]
  },
  {
   "cell_type": "code",
   "execution_count": 1,
   "id": "31e97253",
   "metadata": {},
   "outputs": [],
   "source": [
    "import numpy as np\n",
    "from IPython.display import Image"
   ]
  },
  {
   "cell_type": "markdown",
   "id": "b2ca7e8e",
   "metadata": {},
   "source": [
    "Le perceptron est l'unité de base des réseaux de neurones. Il s'agit d'un modèle de classification binaire, capable de séparer linéairement 2 classes de points."
   ]
  },
  {
   "cell_type": "code",
   "execution_count": 4,
   "id": "5d9e984a",
   "metadata": {},
   "outputs": [
    {
     "data": {
      "image/png": "[encoded data removed]",
      "text/plain": [
       "<IPython.core.display.Image object>"
      ]
     },
     "execution_count": 4,
     "metadata": {},
     "output_type": "execute_result"
    }
   ],
   "source": [
    "Image(filename='Perceptron.png')"
   ]
  },
  {
   "cell_type": "markdown",
   "id": "03a70ac2",
   "metadata": {},
   "source": [
    "Les classes sont linéairement séparables. La frontière de décision est la droite qui nous permet de séparer les classes. Pour la Frontière de décision $Z(x_1, x_2) = 0$"
   ]
  },
  {
   "cell_type": "markdown",
   "id": "e4b62769",
   "metadata": {},
   "source": [
    "## Modèle Linéaire"
   ]
  },
  {
   "cell_type": "code",
   "execution_count": 5,
   "id": "b70dd323",
   "metadata": {},
   "outputs": [
    {
     "data": {
      "image/png": "[encoded data removed]",
      "text/plain": [
       "<IPython.core.display.Image object>"
      ]
     },
     "execution_count": 5,
     "metadata": {},
     "output_type": "execute_result"
    }
   ],
   "source": [
    "Image(filename='Linear_model.png')"
   ]
  },
  {
   "cell_type": "markdown",
   "id": "b7290e3c",
   "metadata": {},
   "source": [
    "On fournit les variables x1 et x2 à un neurone, en les multipliant chacun par un poids (w1, w2). Un fournit au neurone un coeficient complémentaire (le biais). On obtiens donc : $Z(x_1, x_2) = w_1x_1 + w_2x_2 + b$"
   ]
  },
  {
   "cell_type": "markdown",
   "id": "f24774b9",
   "metadata": {},
   "source": [
    "## Fonction Sigmoïde (Logistique)\n",
    "$$a(Z) = \\frac{1}{1 + e^{-Z}}$$"
   ]
  },
  {
   "cell_type": "markdown",
   "id": "1e5cb4bc",
   "metadata": {},
   "source": [
    "## Loi de Bernoulli\n",
    "$$\\mathrm{P}(Y = y) = a(Z)^y\\times(1 - a(Z))^{1-y}$$\n",
    "Explication:  \n",
    "$\\mathrm{P}(Y = 0) = a(Z)^0\\times(1 - a(Z))^{1-0}$  \n",
    "$\\mathrm{P}(Y = 1) = a(Z)^1\\times(1 - a(Z))^{1-1}$\n",
    "\n",
    "Probabilité que la classe appartienne à la classe 1:  \n",
    "$\\mathrm{P}(Y=1)=a(Z)$\n",
    "\n",
    "Probabilité que la classe appartienne à la classe 0:  \n",
    "$\\mathrm{P}(Y=0)=1-a(Z)$"
   ]
  },
  {
   "cell_type": "markdown",
   "id": "8d5dffcb",
   "metadata": {},
   "source": [
    "## Résumé..."
   ]
  },
  {
   "cell_type": "code",
   "execution_count": 6,
   "id": "e24d6aba",
   "metadata": {},
   "outputs": [
    {
     "data": {
      "image/png": "[encoded data removed]",
      "text/plain": [
       "<IPython.core.display.Image object>"
      ]
     },
     "execution_count": 6,
     "metadata": {},
     "output_type": "execute_result"
    }
   ],
   "source": [
    "Image(filename='Linear_model_resume.png')"
   ]
  },
  {
   "cell_type": "markdown",
   "id": "378ce0ad",
   "metadata": {},
   "source": [
    "## Fonction coût\n",
    "En machine Learning, une Fonction Coût (Loss Function) c'est une fonction qui permet de quantifier les erreurs effectuées par un modèle."
   ]
  },
  {
   "cell_type": "markdown",
   "id": "98d96578",
   "metadata": {},
   "source": [
    "## Log Loss\n",
    "$$L = -\\frac{1}{m}\\sum^{m}_{i=1}y_i\\log(a_i)+(1-y_i)\\log(1-a_i)$$\n",
    "$m$: nombre de données  \n",
    "$y_i$: donnée n°$i$  \n",
    "$a_i$: sortie n°$i$"
   ]
  },
  {
   "cell_type": "markdown",
   "id": "9b3c3638",
   "metadata": {},
   "source": [
    "## La vraisemblance\n",
    "Indique la plausibilité du modèle vis-à-vis de vraies donées.  \n",
    "\n",
    "<u>_Analogie:_</u>  \n",
    "_Une histoire est vraisemblable lorsque'elle est en accord avec des faits qui se sont vraiment déroulés._\n",
    "\n",
    "Likelihood:\n",
    "$$ L = \\prod^{m}_{i=1}P(Y=y_i)$$\n",
    "Avec la loi de Bernoulli:\n",
    "$$ L = \\prod^{m}_{i=1}a^{y_i}_i\\times(1-a_i)^{1-y_i}$$\n",
    "\n",
    "On effectue un produit de probabilité (entre 0 et 1) donc plus il y a de nombres, plus le résultat tend vers 0.\n",
    "\n",
    "<u>_Rappel:_</u>  \n",
    "logarithme d'un produit = la somme des logarithmes : $\\log(ab) = \\log(a) + \\log(b)$\n",
    "\n",
    "Vraisemblance avec log:\n",
    "\n",
    "$$ \\log(L) = \\log(\\prod^{m}_{i=1}a^{y_i}_i\\times(1-a_i)^{1-y_i})$$\n",
    "\n",
    "<u>_Remarque:_</u>  \n",
    "La fonction logarithme est une fonction monotone croissante est concerve l'ordre des termes\n",
    "\n",
    "$Argmax(Likelihood) = Argmax(LogLikelihood)$"
   ]
  },
  {
   "cell_type": "markdown",
   "id": "e7d32d97",
   "metadata": {},
   "source": [
    "### Dévelopement\n",
    "<u>_Rappel:_</u>  \n",
    "$\\log(ab) = \\log(a) + \\log(b)$\n",
    "\n",
    "<u>_Rappel:_</u>  \n",
    "$\\log(a^y) = y\\log(a)$\n",
    "\n",
    "$$\\begin{align}\n",
    "LL & = \\log(\\prod^{m}_{i=1}a^{y_i}_i\\times(1-a_i)^{1-y_i}) \\\\\n",
    "& = \\sum^{m}_{i=1}\\log(a^{y_i}_i\\times(1-a_i)^{1-y_i}) \\\\\n",
    "& = \\sum^{m}_{i=1}\\log(a^{y_i}_i)+\\log((1-a_i)^{1-y_i}) \\\\\n",
    "& = \\sum^{m}_{i=1}y_i\\log(a_i)+(1-y_i)\\log(1-a_i)\n",
    "\\end{align}$$"
   ]
  },
  {
   "cell_type": "markdown",
   "id": "9671343e",
   "metadata": {},
   "source": [
    "<u>_Rappel:_</u>  \n",
    "On cherche à maximiser la vraisemblance pour obtenir le meilleur modèle possible.  \n",
    "Cependant en mathématique, les algorithmes de maximisation n'existe pas vraiment.  \n",
    "On utilise de algorithmes de minimisation.  \n",
    "$$Maximiser f(x) = Minimiser - f(x)$$\n",
    "Donc :\n",
    "$$ \\mathcal{L} = -\\frac{1}{m}\\sum^{m}_{i=1}y_i\\log(a_i)+(1-y_i)\\log(1-a_i)$$\n",
    "\n",
    "<u>_Résumé:_</u>  \n",
    "$Log Loss$ : On chercher à Maximiser la vraisemblance $L$ en minimisant la fonction $ - \\log(L)$"
   ]
  },
  {
   "cell_type": "markdown",
   "id": "d4ab295d",
   "metadata": {},
   "source": [
    "## Descente de gradient\n",
    "Consiste à ajuster les paramètres W et b de façon à minimiser les erreurs du modèle, c'est-à-dire à minimiser la Fonction Coût (Log Loss).  \n",
    "Pour ça, il faut déterminer comment est-ce-que cette fonction varie en fonction des différents paramètres.  \n",
    "C'est pourquoi on calcule le Gradient (ou la dérivée) de la fonction Coût. $\\frac{\\partial\\mathcal{L}}{\\partial W}$\n",
    "\n",
    "<u>_Rappel:_</u>  \n",
    "En Mathématique, la dérivée d'une fonction indique comment cette fonction varie.  \n",
    "Si la dérivée est négative $\\frac{\\partial\\mathcal{L}}{\\partial W} < 0$ cela nous indique que la fonction diminue quand $W$ augmente, il va donc falloir augmenté $W$ pour réduire nos erreurs.  \n",
    "Si la dérivée est positive $\\frac{\\partial\\mathcal{L}}{\\partial W} > 0$ cela nous indique que la fonction augmente quand $W$ augmente, il va donc falloir diminué $W$ pour réduire nos erreurs.  \n",
    "\n",
    "$$W_{t+1}=W_t-\\alpha\\frac{\\partial\\mathcal{L}}{\\partial W_t}$$\n",
    "Avec :  \n",
    "$W_{t+1}$ : Paramètre $W$ à l'instant $t+1$  \n",
    "$W_t$ : Paramètre $W$ à l'instant t  \n",
    "$\\alpha$ : Pas d'apprentissage positif  \n",
    "$\\frac{\\partial\\mathcal{L}}{\\partial W_t}$ : Gradient à l'instant $t$  \n",
    "\n",
    "\n",
    "<u>_Remarque:_</u>  \n",
    "Pour que ça marche la fonction doit être convexe :  \n",
    "Qui ne contient qu'un seul minimum."
   ]
  },
  {
   "cell_type": "markdown",
   "id": "b34ac73b",
   "metadata": {},
   "source": [
    "## Gradients de la fonction Log Loss\n",
    "<u>_Données:_</u>  \n",
    "$$\\begin{align}\n",
    "Z & = w_1x_1 + w_2x_2 + b \\\\\n",
    "\\\\\n",
    "a & = \\frac{1}{1 + e^{-Z}} \\\\\n",
    "\\\\\n",
    "\\mathcal{L} & = -\\frac{1}{m}\\sum^{m}_{i=1}y_i\\log(a_i)+(1-y_i)\\log(1-a_i) \n",
    "\\\\\n",
    "W & = W-\\alpha\\frac{\\partial\\mathcal{L}}{\\partial W} \\\\\n",
    "\\\\\n",
    "b & = b-\\alpha\\frac{\\partial\\mathcal{L}}{\\partial b} \\\\\n",
    "\\end{align}$$"
   ]
  },
  {
   "cell_type": "markdown",
   "id": "b01b7e45",
   "metadata": {},
   "source": [
    "#### Gradients\n",
    "<u>_Rappel 1:_</u>  \n",
    "$\\log'(x) = \\frac{1}{x}$  \n",
    "\n",
    "<u>_Rappel 2:_</u>  \n",
    "$a=g\\circ f = g(f(z))$  \n",
    "$\\begin{cases}\n",
    "    g & = \\frac{1}{f}  & dérivé : & \\frac{-1}{x^2}\\\\\n",
    "    f & = 1 + e^{-z} & dérivé : & -e^{-z}\n",
    "\\end{cases}$\n",
    "\n",
    "<u>_Rappel 3:_</u>  \n",
    "$(a=g\\circ f)' = g'(f(z)) \\times f'(z)$"
   ]
  },
  {
   "cell_type": "markdown",
   "id": "ad541d1b",
   "metadata": {},
   "source": [
    "<u>_Premier Gradient:_</u>\n",
    "$$\\frac{\\partial\\mathcal{L}}{\\partial W_1} = \\frac{\\partial\\mathcal{L}}{\\partial a} \\times \\frac{\\partial a}{\\partial Z} \\times \\frac{\\partial Z}{\\partial W_1}$$\n",
    "\n",
    "<u>_Premièrement:_</u>  \n",
    "$$\\begin{align}\n",
    "\\frac{\\partial\\mathcal{L}}{\\partial a} & = -\\frac{1}{m}\\sum^{m}_{i=1}\\frac{y_i}{a_i}-\\frac{1-y_i}{1-a_i} \\\\\n",
    "\\end{align}$$\n",
    "\n",
    "<u>_Deuxièmement:_</u>  \n",
    "$$\\begin{align}\n",
    "\\frac{\\partial a}{\\partial Z} & =  g'(f(z)) \\times f'(z) \\\\\n",
    "& = \\frac{-1}{(1+e^{-z})^2} \\times -e^{-z} \\\\\n",
    "& = \\frac{e^{-z}}{(1+e^{-z})^2} \\\\ \n",
    "& = \\frac{1}{1+e^{-z}} \\times \\frac{e^{-z}}{1+e^{-z}}  \\\\\n",
    "& = a(z) \\times (\\frac{e^{-z} + 1}{1+e^{-z}} - \\frac{1}{1+e^{-z}}) \\\\\n",
    "& = a(z) \\times (1 - a(z)) \\\\\n",
    "\\frac{\\partial a}{\\partial Z} & = a \\times (1 - a)\n",
    "\\end{align}$$\n",
    "\n",
    "<u>_Troisièmement:_</u>  \n",
    "<u>_Remarque:_</u>  \n",
    "Dans $Z = w_1x_1 + w_2x_2 + b$, on considère $w_2x_2$ et $b$ comme des constantes car ils ne varient pas lorsque l'on fait varier $w_1$.\n",
    "$$\\begin{align}\n",
    "\\frac{\\partial Z}{\\partial W_1} & = x_1 \\\\\n",
    "\\end{align}$$\n"
   ]
  },
  {
   "cell_type": "markdown",
   "id": "15eb8df9",
   "metadata": {},
   "source": [
    "<u>_Calcule du gradient:_</u> \n",
    "$$\\begin{align}\n",
    "\\frac{\\partial\\mathcal{L}}{\\partial W_1} & =\n",
    "(-\\frac{1}{m}\\sum\\frac{y}{a}-\\frac{1-y}{1-a})\n",
    "\\times\n",
    "(a(1 - a))\n",
    "\\times\n",
    "x_1 \\\\\n",
    "& = -\\frac{1}{m}\\sum \\frac{ya(1-a)}{a}-\\frac{(1-y)a(1-a)}{1-a}\\times x_1  \\\\\n",
    "& = -\\frac{1}{m}\\sum (y(1-a)-(1-y)a) x_1  \\\\\n",
    "& = -\\frac{1}{m}\\sum y-ya-a+ya \\times x_1  \\\\\n",
    "\\frac{\\partial\\mathcal{L}}{\\partial W_1} & = -\\frac{1}{m}\\sum^{m}_{i=1}(y_i-a_i) \\times x_{1i}  \\\\\n",
    "\\end{align}\n",
    "$$"
   ]
  },
  {
   "cell_type": "markdown",
   "id": "2fde27a6",
   "metadata": {},
   "source": [
    "#### Gradients\n",
    "$$\\begin{align}\n",
    "\\frac{\\partial\\mathcal{L}}{\\partial W_1} & = \\frac{1}{m}\\sum(a-y) x_{1}  \\\\\n",
    "\\frac{\\partial\\mathcal{L}}{\\partial W_2} & = \\frac{1}{m}\\sum(a-y) x_{2}  \\\\\n",
    "\\frac{\\partial\\mathcal{L}}{\\partial b} & = \\frac{1}{m}\\sum(a-y)\n",
    "\\end{align}\n",
    "$$"
   ]
  },
  {
   "cell_type": "markdown",
   "id": "1e4f81ed",
   "metadata": {},
   "source": [
    "## Vectorisation\n",
    "En programmation, cela consiste à mettre nos données dans des **vecteurs**, des **matrices** ou des **tableaux à N-dimension** afin d'effectuer des opérations mathématiques sur l'ensemble de ces données."
   ]
  },
  {
   "cell_type": "markdown",
   "id": "f9867543",
   "metadata": {},
   "source": [
    "### Matrices \n",
    "_Par convention :_  \n",
    "$m$: nombre de données  \n",
    "$n$: nombre de variables  \n",
    "Dans cette vidéo, nous allons travailler avec 2 variables, donc $n=2$."
   ]
  },
  {
   "cell_type": "markdown",
   "id": "7e5bb71f",
   "metadata": {},
   "source": [
    "### Vectorization de $Z$ :\n",
    "$$z=w_1x_1+w_2x_2+b$$  \n",
    "\\begin{equation*}\n",
    "X =\n",
    "\\begin{bmatrix}\n",
    "x_{1}^{(1)} & x_{2}^{(1)}\\\\\n",
    "x_{1}^{(2)} & x_{2}^{(2)}\\\\\n",
    "\\vdots & \\vdots\\\\\n",
    "x_{1}^{(m)} & x_{2}^{(m)}\n",
    "\\end{bmatrix}\n",
    "\\end{equation*}"
   ]
  },
  {
   "cell_type": "markdown",
   "id": "63bb4d3a",
   "metadata": {},
   "source": [
    "$$\n",
    "\\begin{equation*}\n",
    "X =\n",
    "\\begin{bmatrix}z^{(1)}\\\\\n",
    "z^{(2)}\\\\\n",
    "\\vdots\\\\\n",
    "z^{(m)}\n",
    "\\end{bmatrix}\n",
    "=\n",
    "\\begin{bmatrix}\\color{red}{w1}\\color{orange}{x_{1}^{(1)}} + \\color{red}{w2}\\color{orange}{x_{2}^{(1)}} + \\color{blue}{b}\\\\\n",
    "\\color{red}{w1}\\color{orange}{x_{1}^{(2)}} + \\color{red}{w2}\\color{orange}{x_{2}^{(2)}} + \\color{blue}{b}\\\\\n",
    "\\vdots\\\\\n",
    "\\color{red}{w1}\\color{orange}{x_{1}^{(m)}} + \\color{red}{w2}\\color{orange}{x_{2}^{(m)}} + \\color{blue}{b}\n",
    "\\end{bmatrix}\n",
    "=\n",
    "\\underbrace{\n",
    "    \\color{orange}{\n",
    "        \\underbrace{\n",
    "            \\stackrel{\\mbox{$X$}}{%\n",
    "                \\begin{bmatrix}x_{1}^{(1)} & x_{2}^{(1)}\\\\\n",
    "                x_{1}^{(2)} & x_{2}^{(2)}\\\\\n",
    "                \\vdots & \\vdots\\\\\n",
    "                x_{1}^{(m)} & x_{2}^{(m)}\n",
    "                \\end{bmatrix}%\n",
    "            }\n",
    "        }_{(m, 2)}\n",
    "    }\\\n",
    "    \\times\n",
    "    \\color{red}{\n",
    "        \\underbrace{\n",
    "            \\stackrel{\\mbox{$W$}}{%\n",
    "                \\begin{bmatrix}w_{1}\\\\\n",
    "                w_{2}\\\\\n",
    "                \\end{bmatrix}%\n",
    "            }\n",
    "        }_{(2, 1)}\n",
    "    }\n",
    "}_{(m, 1)}\\\n",
    "+\n",
    "\\color{blue}{\n",
    "    \\underbrace{\n",
    "        \\stackrel{\\mbox{$b$}}{%\n",
    "            \\begin{bmatrix}b\\\\\n",
    "            b\\\\\n",
    "            \\vdots\\\\\n",
    "            b\n",
    "            \\end{bmatrix}%\n",
    "        }\n",
    "    }_{(m, 1)}\\\n",
    "}\n",
    "\\end{equation*}\n",
    "$$"
   ]
  },
  {
   "cell_type": "markdown",
   "id": "201453d7",
   "metadata": {},
   "source": [
    "$$z=w_1x_1+w_2x_2+b$$  \n",
    "  \n",
    "$$\\text{Vectorization : } Z=X \\cdot W+b$$  \n",
    "\\begin{equation*}\n",
    "X =\n",
    "\\begin{bmatrix}x_{1}^{(1)} & \\dots & x_{n}^{(1)}\\\\\n",
    "\\vdots & \\ddots & \\vdots\\\\\n",
    "x_{1}^{(m)} & \\dots & x_{n}^{(m)}\n",
    "\\end{bmatrix}\n",
    "\\in \\mathbb{R}^{m \\times n}\n",
    "\\space \\space \\space \\space\n",
    "W=\n",
    "\\begin{bmatrix}w_{1}\\\\\n",
    "\\vdots\\\\\n",
    "w_{n}\n",
    "\\end{bmatrix}\n",
    "\\in \\mathbb{R}^{n \\times 1}\n",
    "\\space \\space \\space \\space\n",
    "b=\n",
    "\\begin{bmatrix}b\\\\\n",
    "\\vdots\\\\\n",
    "b\n",
    "\\end{bmatrix}\n",
    "\\in \\mathbb{R}^{m \\times 1}\n",
    "=b \\in \\mathbb{R}\n",
    "\\end{equation*}"
   ]
  },
  {
   "cell_type": "markdown",
   "id": "8119c652",
   "metadata": {},
   "source": [
    "## Vectorization de $A$ :\n",
    "_Rappel:_  \n",
    "$a^{(i)} = \\sigma(z^{(i)}) = \\frac{1}{1 + e^{-z^{(i)}}}$\n",
    "\n",
    "$$\n",
    "\\begin{equation*}\n",
    "A =\n",
    "\\begin{bmatrix}a^{(1)}\\\\\n",
    "a^{(2)}\\\\\n",
    "\\vdots\\\\\n",
    "a^{(m)}\\\\\n",
    "\\end{bmatrix}\n",
    "=\n",
    "\\begin{bmatrix}\\sigma(z^{(1)})\\\\\n",
    "\\sigma(z^{(2)})\\\\\n",
    "\\vdots\\\\\n",
    "\\sigma(z^{(m)})\\\\\n",
    "\\end{bmatrix}\n",
    "=\\color{orange}{\\sigma\n",
    "    \\left(\n",
    "        \\color{black}{\n",
    "            \\begin{bmatrix}z^{(1)}\\\\\n",
    "            z^{(2)}\\\\\n",
    "            \\vdots\\\\\n",
    "            z^{(m)}\\\\\n",
    "            \\end{bmatrix}\n",
    "        }\n",
    "    \\right)\n",
    "}\n",
    "= \\sigma(Z)\n",
    "\\end{equation*}\n",
    "$$\n"
   ]
  },
  {
   "cell_type": "markdown",
   "id": "14d528bb",
   "metadata": {},
   "source": [
    "## Vectorisation de la Fonction Coût\n",
    "Calculer l'erreur globale en fesant **<span style=\"color: orange;\">la somme</span>** des erreurs entre chaque point $\\color{red}{a^{(i)}}$ et $\\color{green}{y^{(i)}}$  \n",
    "Notre objectif: Comparer directement le vecteur $\\color{red}A$ au vecteur $\\color{green}y$\n",
    "\n",
    "$$ \\mathcal{L} = -\\frac{1}{m}\\color{orange}{\\sum^{m}_{i=1}}\\color{green}{y^{(i)}}\\times\\log(\\color{red}{a^{(i)}})+(1-\\color{green}{y^{(i)}})\\times\\log(1-\\color{red}{a^{(i)}})$$\n",
    "\n",
    "$$ \\mathcal{L} =\n",
    "-\\frac{1}{m}\n",
    "\\color{orange}{\n",
    "    \\sum^{m}_{i=1}\n",
    "}\n",
    "\\color{green}{\n",
    "    \\stackrel{\\mbox{$y$}}{%\n",
    "        \\begin{bmatrix}y^{(1)}\\\\\n",
    "        y^{(2)}\\\\\n",
    "        \\vdots\\\\\n",
    "        y^{(m)}\\\\\n",
    "        \\end{bmatrix}%\n",
    "     }\n",
    "}\n",
    "\\times\n",
    "\\log\n",
    "    \\stackrel{\\color{red}{\\mbox{$A$}}}{%\n",
    "        \\left(\n",
    "            \\color{red}{\n",
    "                \\begin{bmatrix}a^{(1)}\\\\\n",
    "                a^{(2)}\\\\\n",
    "                \\vdots\\\\\n",
    "                a^{(m)}\\\\\n",
    "                \\end{bmatrix}%\n",
    "            }\n",
    "        \\right)\n",
    "     }\n",
    "+\n",
    "\\stackrel{\\,\\,\\,\\,\\,\\,\\,\\,\\,\\color{green}{\\mbox{$y$}}}{%\n",
    "    \\left(\n",
    "        1-\n",
    "        \\color{green}{\n",
    "            \\begin{bmatrix}y^{(1)}\\\\\n",
    "            y^{(2)}\\\\\n",
    "            \\vdots\\\\\n",
    "            y^{(m)}\\\\\n",
    "            \\end{bmatrix}%\n",
    "        }\n",
    "    \\right)\n",
    "}\n",
    "\\times\n",
    "\\log\n",
    "\\stackrel{\\,\\,\\,\\,\\,\\,\\,\\,\\,\\color{red}{\\mbox{$A$}}}{%\n",
    "    \\left(\n",
    "        1-\n",
    "        \\color{red}{\n",
    "            \\begin{bmatrix}a^{(1)}\\\\\n",
    "            a^{(2)}\\\\\n",
    "            \\vdots\\\\\n",
    "            a^{(m)}\\\\\n",
    "            \\end{bmatrix}%\n",
    "        }\n",
    "    \\right)\n",
    "}\n",
    "$$"
   ]
  },
  {
   "cell_type": "markdown",
   "id": "0feebeea",
   "metadata": {},
   "source": [
    "$$ \\mathcal{L} =\n",
    "-\\frac{1}{m}\n",
    "\\color{orange}{\n",
    "    \\sum^{m}_{i=1}\n",
    "}\n",
    "\\begin{bmatrix}\\color{green}{y^{(1)}} & \\times \\log( & \\color{red}{a^{(1)}} &)\\\\\n",
    "\\color{green}{y^{(2)}} & \\times \\log( & \\color{red}{a^{(2)}} &)\\\\\n",
    "\\color{green}{\\vdots} & \\vdots & \\color{red}{\\vdots} &\\\\\n",
    "\\color{green}{y^{(m)}} & \\times \\log( & \\color{red}{a^{(m)}} &)\\\\\n",
    "\\end{bmatrix}%\n",
    "+\n",
    "\\begin{bmatrix}(1-\\color{green}{y^{(1)}}) \\times \\log(1-\\color{red}{a^{(1)}})\\\\\n",
    "(1-\\color{green}{y^{(2)}}) \\times \\log(1-\\color{red}{a^{(2)}})\\\\\n",
    "\\vdots\\\\\n",
    "(1-\\color{green}{y^{(m)}}) \\times \\log(1-\\color{red}{a^{(m)}})\\\\\n",
    "\\end{bmatrix}%\n",
    "$$"
   ]
  },
  {
   "cell_type": "markdown",
   "id": "ba07cb80",
   "metadata": {},
   "source": [
    "$$ \\mathcal{L} =\n",
    "-\\frac{1}{m}\n",
    "\\color{orange}{\n",
    "    \\sum^{m}_{i=1}\n",
    "}\n",
    "\\underbrace{\n",
    "    \\begin{bmatrix}\\color{green}{y^{(1)}} \\times \\log(\\color{red}{a^{(1)}}) + (1-\\color{green}{y^{(1)}}) \\times \\log(1-\\color{red}{a^{(1)}})\\\\\n",
    "    \\color{green}{y^{(2)}} \\times \\log(\\color{red}{a^{(2)}}) + (1-\\color{green}{y^{(2)}}) \\times \\log(1-\\color{red}{a^{(2)}})\\\\\n",
    "    \\vdots\\\\\n",
    "    \\color{green}{y^{(m)}} \\times \\log(\\color{red}{a^{(m)}}) + (1-\\color{green}{y^{(m)}}) \\times \\log(1-\\color{red}{a^{(m)}})\\\\\n",
    "    \\end{bmatrix}%\n",
    "}_{\\color{blue}{(m, 1)}}\n",
    "$$\n",
    "_Remarque :_  \n",
    "**<span style=\"color: orange;\">La somme</span>** de ce vecteur $\\color{blue}{(m,1)}$ donne un nombre réel"
   ]
  },
  {
   "cell_type": "markdown",
   "id": "f7af3d8c",
   "metadata": {},
   "source": [
    "## Vectorisation de la Descente de Gradient\n",
    "_Rappel:_  \n",
    "$W_{1}=W_1-\\alpha\\frac{\\partial\\mathcal{L}}{\\partial W_1}$  \n",
    "$W_{2}=W_2-\\alpha\\frac{\\partial\\mathcal{L}}{\\partial W_2}$  \n",
    "$b=b-\\alpha\\frac{\\partial\\mathcal{L}}{\\partial b}$"
   ]
  },
  {
   "cell_type": "markdown",
   "id": "3baf876c",
   "metadata": {},
   "source": [
    "$$\n",
    "\\begin{equation*}\n",
    "\\color{orange}{\n",
    "    W=\n",
    "    \\begin{bmatrix}w_{1}\\\\\n",
    "    w_{2}\\\\\n",
    "    \\end{bmatrix}\n",
    "}\n",
    "\\,\\,\\,\\,\\,\\,\\,\\,\\,\n",
    "\\color{green}{\n",
    "    \\mathop{\n",
    "        \\frac{\\partial\\mathcal{L}}{\\partial W} =\n",
    "        \\begin{bmatrix}\\frac{\\partial\\mathcal{L}}{\\partial W_1}\\\\\n",
    "        \\frac{\\partial\\mathcal{L}}{\\partial W_2}\n",
    "        \\end{bmatrix}\n",
    "    }\\limits_{\\text{Jacobien(excluant $b$)}}\n",
    "}\n",
    "\\end{equation*}\n",
    "$$"
   ]
  },
  {
   "cell_type": "markdown",
   "id": "6e9d2653",
   "metadata": {},
   "source": [
    "_Donc:_\n",
    "$$\n",
    "   \\color{orange}W = \\color{orange}W - \\alpha\\color{green}{\\frac{\\partial\\mathcal{L}}{\\partial W}}\n",
    "$$\n",
    "_Note:_  \n",
    "D'un point de vue mathématique, la notation la plus correcte est $W_{t+1}=W_t-\\alpha\\frac{\\partial\\mathcal{L}}{\\partial W_t}$  \n",
    "La notation utiliséee ici est celle que nous emploierons pour la partie programmation\n",
    "\n",
    "_Rappel:_  \n",
    "$b$ est un nombre réel (pas un vecteur).  \n",
    "Donc la dérivée partielle $\\frac{\\partial\\mathcal{L}}{\\partial b}$ est aussi un nombre réel.  \n",
    "Pas besoin de vectoriser cette équation."
   ]
  },
  {
   "cell_type": "markdown",
   "id": "4dc35bda",
   "metadata": {},
   "source": [
    "## Vectorisation des Gradients\n",
    "$$\n",
    "\\begin{equation*}\n",
    "    \\frac{\\partial\\mathcal{L}}{\\partial W}=\n",
    "    \\underbrace{\n",
    "        \\begin{bmatrix}\\frac{\\partial\\mathcal{L}}{\\partial W_1}\\\\\n",
    "        \\frac{\\partial\\mathcal{L}}{\\partial W_2}\\\\\n",
    "        \\end{bmatrix}\n",
    "    }_{(2, 1)}\n",
    "    =\n",
    "    \\begin{bmatrix}\\frac{1}{m}\\sum^{m}_{i=1}(a^{(i)}-y^{(i)}) \\times x_{1}^{(i)}\\\\\n",
    "    \\frac{1}{m}\\sum^{m}_{i=1}(a^{(i)}-y^{(i)}) \\times x_{2}^{(i)}\\\\\n",
    "    \\end{bmatrix}\n",
    "    =\\frac{1}{m}\n",
    "    \\begin{bmatrix}\\sum^{m}_{i=1}(a^{(i)}-y^{(i)}) \\times x_{1}^{(i)}\\\\\n",
    "    \\sum^{m}_{i=1}(a^{(i)}-y^{(i)}) \\times x_{2}^{(i)}\\\\\n",
    "    \\end{bmatrix}\n",
    "    =\\frac{1}{m}\n",
    "    \\begin{bmatrix}(\\color{red}{a^{(1)}}-\\color{blue}{y^{(1)}})\\color{orange}{x_{1}^{(1)}}  +  \\dots  +  (\\color{red}{a^{(m)}}-\\color{blue}{y^{(m)}})\\color{orange}{x_{1}^{(m)}}\\\\\n",
    "    (\\color{red}{a^{(1)}}-\\color{blue}{y^{(1)}})\\color{orange}{x_{2}^{(1)}}  + \\dots +  (\\color{red}{a^{(m)}}-\\color{blue}{y^{(m)}})\\color{orange}{x_{2}^{(m)}}\\\\\n",
    "    \\end{bmatrix}\n",
    "\\end{equation*}\n",
    "$$"
   ]
  },
  {
   "cell_type": "markdown",
   "id": "84d0fe84",
   "metadata": {},
   "source": [
    "$$\n",
    "\\begin{equation*}\n",
    "    \\frac{\\partial\\mathcal{L}}{\\partial W}=\n",
    "    \\frac{1}{m}\n",
    "    \\underbrace{\n",
    "        \\color{orange}{\n",
    "            \\underbrace{\n",
    "                \\mathop{\n",
    "                    \\begin{bmatrix}x_1^{(1)} x_1^{(2)} \\dots x_1^{(m)}\\\\\n",
    "                    x_2^{(1)} x_2^{(2)} \\dots x_2^{(m)}\n",
    "                    \\end{bmatrix}\n",
    "                }\\limits_{\\mbox{$X^T$}}\n",
    "            }_{(2, m)}\n",
    "        }\n",
    "        \\times\n",
    "        \\color{purple}{\n",
    "            \\underbrace{\n",
    "                \\color{black}{\n",
    "                    \\left(\n",
    "                        \\color{red}{\n",
    "                            \\mathop{\n",
    "                                \\begin{bmatrix}a^{(1)}\\\\\n",
    "                                a^{(2)}\\\\\n",
    "                                \\vdots\\\\\n",
    "                                a^{(m)}\n",
    "                                \\end{bmatrix}\n",
    "                            }\\limits_{\\mbox{$A$}}\n",
    "                        }\n",
    "                        -\n",
    "                        \\color{blue}{\n",
    "                            \\mathop{\n",
    "                                \\begin{bmatrix}y^{(1)}\\\\\n",
    "                                y^{(2)}\\\\\n",
    "                                \\vdots\\\\\n",
    "                                y^{(m)}\n",
    "                                \\end{bmatrix}\n",
    "                            }\\limits_{\\mbox{$y$}}\n",
    "                        }\n",
    "                    \\right)\n",
    "                }\n",
    "            }_{(m,1)}\n",
    "        }\n",
    "    }_{(2,1)}\n",
    "\\end{equation*}\n",
    "$$"
   ]
  },
  {
   "cell_type": "markdown",
   "id": "0b7d3bf6",
   "metadata": {},
   "source": [
    "_Donc:_\n",
    "$$\n",
    "\\begin{equation*}\n",
    "    \\frac{\\partial\\mathcal{L}}{\\partial W}=\n",
    "    \\frac{1}{m}\\color{orange}{X^T}\\times(\\color{red}A-\\color{blue}y)\n",
    "\\end{equation*}\n",
    "$$"
   ]
  },
  {
   "cell_type": "markdown",
   "id": "c9be8f13",
   "metadata": {},
   "source": []
  }
 ],
 "metadata": {
  "kernelspec": {
   "display_name": "Python 3 (ipykernel)",
   "language": "python",
   "name": "python3"
  },
  "language_info": {
   "codemirror_mode": {
    "name": "ipython",
    "version": 3
   },
   "file_extension": ".py",
   "mimetype": "text/x-python",
   "name": "python",
   "nbconvert_exporter": "python",
   "pygments_lexer": "ipython3",
   "version": "3.10.5"
  }
 },
 "nbformat": 4,
 "nbformat_minor": 5
}
