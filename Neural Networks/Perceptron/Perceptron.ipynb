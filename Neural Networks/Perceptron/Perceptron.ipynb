{
 "cells": [
  {
   "cell_type": "markdown",
   "id": "ba884831",
   "metadata": {},
   "source": [
    "# Perceptron (p)"
   ]
  },
  {
   "cell_type": "markdown",
   "id": "3aa9c200",
   "metadata": {},
   "source": [
    "## Imports"
   ]
  },
  {
   "cell_type": "code",
   "execution_count": 3,
   "id": "31e97253",
   "metadata": {},
   "outputs": [],
   "source": [
    "import numpy as np\n",
    "from IPython.display import Image"
   ]
  },
  {
   "cell_type": "markdown",
   "id": "b2ca7e8e",
   "metadata": {},
   "source": [
    "Le perceptron est l'unité de base des réseaux de neurones. Il s'agit d'un modèle de classification binaire, capable de séparer linéairement 2 classes de points."
   ]
  },
  {
   "cell_type": "code",
   "execution_count": 4,
   "id": "5d9e984a",
   "metadata": {},
   "outputs": [
    {
     "data": {
      "image/png": "[encoded data removed]",
      "text/plain": [
       "<IPython.core.display.Image object>"
      ]
     },
     "execution_count": 4,
     "metadata": {},
     "output_type": "execute_result"
    }
   ],
   "source": [
    "Image(filename='Perceptron.png')"
   ]
  },
  {
   "cell_type": "markdown",
   "id": "e4b62769",
   "metadata": {},
   "source": [
    "## Modèle Linéaire"
   ]
  },
  {
   "cell_type": "code",
   "execution_count": 5,
   "id": "b70dd323",
   "metadata": {},
   "outputs": [
    {
     "data": {
      "image/png": "[encoded data removed]",
      "text/plain": [
       "<IPython.core.display.Image object>"
      ]
     },
     "execution_count": 5,
     "metadata": {},
     "output_type": "execute_result"
    }
   ],
   "source": [
    "Image(filename='Linear_model.png')"
   ]
  },
  {
   "cell_type": "markdown",
   "id": "b7290e3c",
   "metadata": {},
   "source": [
    "On fournit les variables x1 et x2 à un neurone, en les multipliant chacun par un poids (w1, w2). Un fournit au neurone un coeficient complémentaire (le biais). On obtiens donc : $Z(x_1, x_2) = w_1x_1 + w_2x_2 + b$"
   ]
  },
  {
   "cell_type": "markdown",
   "id": "7e5bb71f",
   "metadata": {},
   "source": [
    "$$z=w_1x_1+w_2x_2+b$$  \n",
    "  \n",
    "$$\\text{Vectorization : } Z=X \\cdot W+b$$  \n",
    "\\begin{equation*}\n",
    "X =\n",
    "\\begin{bmatrix}x_{1}^{(1)} & \\dots & x_{n}^{(1)}\\\\\n",
    "\\vdots & \\ddots & \\vdots\\\\\n",
    "x_{1}^{(m)} & \\dots & x_{n}^{(m)}\n",
    "\\end{bmatrix}\n",
    "\\in \\mathbb{R}^{m \\times n}\n",
    "\\space \\space \\space \\space\n",
    "W=\n",
    "\\begin{bmatrix}w_{1}\\\\\n",
    "\\vdots\\\\\n",
    "w_{n}\n",
    "\\end{bmatrix}\n",
    "\\in \\mathbb{R}^{n \\times 1}\n",
    "\\space \\space \\space \\space\n",
    "b=\n",
    "\\begin{bmatrix}b\\\\\n",
    "\\vdots\\\\\n",
    "b\n",
    "\\end{bmatrix}\n",
    "\\in \\mathbb{R}^{m \\times 1}\n",
    "=b \\in \\mathbb{R}\n",
    "\\end{equation*}"
   ]
  },
  {
   "cell_type": "code",
   "execution_count": null,
   "id": "4038a7e1",
   "metadata": {},
   "outputs": [],
   "source": []
  }
 ],
 "metadata": {
  "kernelspec": {
   "display_name": "Python 3 (ipykernel)",
   "language": "python",
   "name": "python3"
  },
  "language_info": {
   "codemirror_mode": {
    "name": "ipython",
    "version": 3
   },
   "file_extension": ".py",
   "mimetype": "text/x-python",
   "name": "python",
   "nbconvert_exporter": "python",
   "pygments_lexer": "ipython3",
   "version": "3.10.5"
  }
 },
 "nbformat": 4,
 "nbformat_minor": 5
}
